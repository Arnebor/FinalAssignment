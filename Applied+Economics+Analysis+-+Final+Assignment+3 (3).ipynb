{
 "cells": [
  {
   "cell_type": "markdown",
   "metadata": {},
   "source": [
    "# An analysis of Krugman's theory, using Pflüger's Model"
   ]
  },
  {
   "cell_type": "markdown",
   "metadata": {},
   "source": [
    "- Arne Bor (938230)\n",
    "- Job Teurlinx\n",
    "- Indira van Asperen"
   ]
  },
  {
   "cell_type": "markdown",
   "metadata": {},
   "source": [
    "<u>*Introduction*</u>"
   ]
  },
  {
   "cell_type": "markdown",
   "metadata": {},
   "source": [
    "Spatial economics are becoming a more and more important part of economics. Seminal contributions by Krugman (1991) have proven their value. Economists need to start thinking in terms of agglomeration, core and periphery to answer questions about regional competition (Pflüger, 2004). Geographical economics used to be a small part of economics, despite its explanatory power (Krugman, 1991). Krugman argues that forces of agglomeration can be explained by economic geography, using models borrowed from industrial organization. He uses them to answer the question why all economic activity takes place in one core-area, leaving vast amounts of peripherical land unused."
   ]
  },
  {
   "cell_type": "markdown",
   "metadata": {},
   "source": [
    "<u>*Research Question*</u>"
   ]
  },
  {
   "cell_type": "markdown",
   "metadata": {},
   "source": [
    "In this paper, we want to do the following things. First, we want to put the model set up by [Pflüger](http://www.diw.de/documents/publikationen/73/diw_01.c.40255.de/dp339.pdf), set up in 2004 (Pflüger 2004) to check the theory set up by Krugman. We will pay special attention to the ‘threshold-effect’ described by Krugman and expand the model offered by Pflüger.\n",
    "We want to check this model by studying the threshold effects as described by Krugman. Furthermore, we want to add several aspects: we want to model both cluster benefits and costs of agglomeration. "
   ]
  },
  {
   "cell_type": "markdown",
   "metadata": {},
   "source": [
    "<u>*Theoretical Foundation*</u>"
   ]
  },
  {
   "cell_type": "markdown",
   "metadata": {},
   "source": [
    "A number of reasons are offered by Krugman to explain agglomeration effects. First, agglomeration leads to a pooled labor-market where chances of finding both employers and employees are larger for both laborers as firms than in non-agglomerized regions. Second, and more importantly, it’s possible that firms in a cluster are more efficient than their isolated counterparts in the periphery, due to information spill-over effects. Krugman argues that it therefore makes sense that agglomeration takes place. \n",
    "He and Pflüger describe a two-sector world, where the agricultural sector uses land and the manufacture sectors uses land only modestly, and consumers spend a sufficient large fraction of their wealth on manufacturing goods. Manufactured goods are produced by skilled laborers, while agricultural goods are produced by unskilled laborers. There are transport costs for manufactured but not for agricultural goods. In this world, Krugman argues that a circular effect takes place: manufactural production is located where a big market is, but the market is large if the manufacturing sector is located there. He believes there is a threshold of transport costs, wealth spent on manufactured and economies of scale that must be crossed before agglomeration starts. Skilled labour is mobile, while unskilled labour is not. In the long run, human capital owners will go to regions where their utility is the highest, such that V – V* = 0, where V denotes a person’s utility and V* optimal utility. In the long term, where skilled labor is mobile, there is no reason why a person should choose to live somewhere where V is lower than V*."
   ]
  },
  {
   "cell_type": "markdown",
   "metadata": {},
   "source": [
    "<u>*Model*</u>"
   ]
  },
  {
   "cell_type": "markdown",
   "metadata": {},
   "source": [
    "The model as described by Pflüger has the following charachteristics:\n",
    "<br>\n",
    "In formula form, the model has the following parameters and equations:\n",
    "<br>"
   ]
  },
  {
   "cell_type": "markdown",
   "metadata": {},
   "source": [
    "### Table 1: Parameters"
   ]
  },
  {
   "cell_type": "markdown",
   "metadata": {},
   "source": [
    "|     Symbol      | Definition                            |\n",
    "|:---------------:|---------------------------------------|\n",
    "|     $U$         | Utility                               |\n",
    "|     $C_\\alpha$  | Consumption of agricultural goods     |\n",
    "|     $C_x$       | Consumption of manufactured goods     |\n",
    "|     $R$         | Wage                                  |\n",
    "|     $p$         | Price                                 | \n",
    "|     $\\alpha$    | Preference for manufactured goods     |\n",
    "|     $\\sigma$    | Elasticity of substitution between manufacturing varieties|\n",
    "|     $\\lambda$   | $N \\over {N+N*}$: Share of total labour supply that works in home region|\n",
    "|     $L$         | Unskilled labour force                | \n",
    "|     $K$         | Skilled labour force                  | \n",
    "|     $L + K$     | Total Population                      |\n",
    "|     $\\rho$      | $L\\over K$: Ratio unskilled labour in home region to total skilled labour in world |\n",
    "|     $\\rho*$     | $L*\\over K$: Ratio unskilled labour in foreign region to total skilled labour in world|\n",
    "|     $N, N^*$    | varieties produced at home and abroad | \n",
    "|     $\\tau$      | Transport Costs                       | \n",
    "|     $\\phi$      | $\\tau^{1-\\sigma}$                     | \n"
   ]
  },
  {
   "cell_type": "markdown",
   "metadata": {
    "collapsed": true
   },
   "source": [
    "### Model Equations"
   ]
  },
  {
   "cell_type": "markdown",
   "metadata": {},
   "source": [
    "Therefore:\n",
    "<br>\n",
    "$$U = C_\\alpha + \\alpha ln(C_x)$$\n",
    "<br>\n",
    "$$C_x = (\\int\\limits_0^\\eta x_i^{{\\sigma-1}\\over{\\sigma}}+\\int\\limits_0^\\eta x_j^{{\\sigma-1}\\over{\\sigma}})^{{\\sigma-1}\\over{\\sigma}}$$\n",
    "<br>\n",
    "There is a budget constraint:\n",
    "$$PC_x + C_a = Y$$\n",
    "<br>\n",
    "Maximisation leads to:\n",
    "<br>\n",
    "$$P = [NP_i^{1-\\sigma} + N^*(\\tau P_j)^{1-\\sigma}]^{{1}\\over{1-\\sigma}}$$\n",
    "<br>\n",
    "$$C_x = \\alpha P^{-1}$$\n",
    "<br> \n",
    "$$C_\\alpha = Y - \\alpha$$\n",
    "<br>\n",
    "$$x_i = \\alpha P_i^{-\\sigma}P^{\\sigma - 1}$$\n",
    "<br>\n",
    "$$x_j = \\alpha (\\tau P_j)^{-\\sigma}P^{\\sigma-1}$$\n",
    "<br>\n",
    "$$V = -\\alpha ln(P)+Y - \\alpha ln(x-1)$$\n",
    "<br>\n",
    "Production is determined by:\n",
    "<br>\n",
    "$$X(L+K)X_i + (L+K)\\tau x_j$$\n",
    "<br>\n",
    "Technology is such that $L_i=cX_i$, with the marginal cost given by c. \n",
    "<br>\n",
    "Prices are constant markups:\n",
    "<br>\n",
    "$$P_i = P_j = {{c\\sigma} \\over{(\\sigma - 1)}}$$\n",
    "<br>\n",
    "In the short run, skilled labour is immobile. $$N = K$$ and $$N^* = K^*$$.\n",
    "<br>\n",
    "Then:\n",
    "<br>\n",
    "$$\\sigma R - {{\\alpha (L+K)} \\over{K+\\phi K}} + {{\\phi\\alpha(L+K) \\over {\\phi K + K}}}$$ and $$\\sigma R - {{\\phi\\alpha(L+K) \\over {K+\\phi K}}} + {{\\alpha(L+K) \\over {\\phi K + K}}}$$\n",
    "<br>\n",
    "And in the long run, there exists a difference between optimal indirect utility $$V^*$$ and indirect utility V:\n",
    "<br><br>\n",
    "$$V-V^* = {{\\alpha} \\over {1-\\sigma}}ln[{{\\lambda\\phi+(1-\\lambda)} \\over {\\lambda+(1-\\lambda)\\phi}}]+{{\\alpha(1-\\phi)} \\over {\\sigma}}[{{\\rho+\\lambda} \\over {\\lambda+(1-\\lambda)\\phi}} - {{\\rho*+(1-\\lambda)} \\over {\\lambda\\phi+(1-\\lambda)}}]$$\n"
   ]
  },
  {
   "cell_type": "markdown",
   "metadata": {},
   "source": [
    "<u>*Pflügers Model*</u>"
   ]
  },
  {
   "cell_type": "markdown",
   "metadata": {},
   "source": [
    "In the following figure we present Pflügers model, as described in his paper. The values of the parameters will be presented below, in which $\\lambda$ is the varying factor in the utility function. "
   ]
  },
  {
   "cell_type": "markdown",
   "metadata": {},
   "source": [
    "### Parameters Model Pflüger"
   ]
  },
  {
   "cell_type": "markdown",
   "metadata": {},
   "source": [
    "|     Symbol      | Definition                        |\n",
    "|-----------------|-----------------------------------|\n",
    "|  $\\alpha$       | 0.3                               |\n",
    "|  $\\sigma$       | 6                                 |\n",
    "|  $\\tau$         | 1.1; 1.4; 1.5                     | \n",
    "|  $\\lambda$      | Ranging from 0.1 (intervals of 0.1| \n",
    "|  $\\rho$         | 1                                 | \n",
    "|  $\\rho*$        | 1                                 | \n",
    "|  $\\phi$         | 0.621; 0.186; 0.131               | "
   ]
  },
  {
   "cell_type": "markdown",
   "metadata": {},
   "source": [
    "### Execution"
   ]
  },
  {
   "cell_type": "code",
   "execution_count": 7,
   "metadata": {
    "collapsed": false
   },
   "outputs": [],
   "source": [
    "import math\n",
    "import numpy as np\n",
    "import pandas as pd\n",
    "from scipy import arange, optimize\n",
    "import matplotlib.pyplot as plt\n",
    "%matplotlib inline"
   ]
  },
  {
   "cell_type": "markdown",
   "metadata": {},
   "source": [
    "#### Exogenous parameters"
   ]
  },
  {
   "cell_type": "code",
   "execution_count": 74,
   "metadata": {
    "collapsed": false
   },
   "outputs": [],
   "source": [
    "# Defining exogenous parameters\n",
    "\n",
    "alpha = 0.3      # preference for manufactured goods\n",
    "sigma = 6        # elasticity of subsitituion between manufactured varieties\n",
    "tau = 1.1        # transport costs\n",
    "rho = 1          # ratio unskilled labour in home region to total skilled labour in world\n",
    "phi = 0.621      # parameter for transport cost\n",
    "lamda = arange(0.1,1.1,0.1)"
   ]
  },
  {
   "cell_type": "code",
   "execution_count": 75,
   "metadata": {
    "collapsed": false
   },
   "outputs": [
    {
     "name": "stdout",
     "output_type": "stream",
     "text": [
      "[ 0.1  0.2  0.3  0.4  0.5  0.6  0.7  0.8  0.9  1. ]\n"
     ]
    }
   ],
   "source": [
    "print range_x"
   ]
  },
  {
   "cell_type": "code",
   "execution_count": 78,
   "metadata": {
    "collapsed": false
   },
   "outputs": [],
   "source": [
    "def my_array(lamda):\n",
    "    return ((alpha/1-sigma)*np.log[(lamda*phi+(1-lamda)/(lamda+(1-lamda)*phi))]+((alpha(1-phi))/(sigma))*[((rho+lamda)/lamda+(1-lamda)*phi)-((rho+(1-lamda))/lamda*phi+(1-lamda))])\n",
    "    "
   ]
  },
  {
   "cell_type": "code",
   "execution_count": 79,
   "metadata": {
    "collapsed": false
   },
   "outputs": [
    {
     "ename": "TypeError",
     "evalue": "'numpy.ufunc' object has no attribute '__getitem__'",
     "output_type": "error",
     "traceback": [
      "\u001b[0;31m---------------------------------------------------------------------------\u001b[0m",
      "\u001b[0;31mTypeError\u001b[0m                                 Traceback (most recent call last)",
      "\u001b[0;32m<ipython-input-79-9cb4a9d92aa3>\u001b[0m in \u001b[0;36m<module>\u001b[0;34m()\u001b[0m\n\u001b[0;32m----> 1\u001b[0;31m \u001b[0mrange_y\u001b[0m \u001b[1;33m=\u001b[0m \u001b[1;33m[\u001b[0m\u001b[0mmy_array\u001b[0m\u001b[1;33m(\u001b[0m\u001b[0mlamda\u001b[0m\u001b[1;33m)\u001b[0m \u001b[1;32mfor\u001b[0m \u001b[0mx\u001b[0m \u001b[1;32min\u001b[0m \u001b[0mlamda\u001b[0m\u001b[1;33m]\u001b[0m\u001b[1;33m\u001b[0m\u001b[0m\n\u001b[0m",
      "\u001b[0;32m<ipython-input-78-69da4ddfd67c>\u001b[0m in \u001b[0;36mmy_array\u001b[0;34m(lamda)\u001b[0m\n\u001b[1;32m      1\u001b[0m \u001b[1;32mdef\u001b[0m \u001b[0mmy_array\u001b[0m\u001b[1;33m(\u001b[0m\u001b[0mlamda\u001b[0m\u001b[1;33m)\u001b[0m\u001b[1;33m:\u001b[0m\u001b[1;33m\u001b[0m\u001b[0m\n\u001b[0;32m----> 2\u001b[0;31m     \u001b[1;32mreturn\u001b[0m \u001b[1;33m(\u001b[0m\u001b[1;33m(\u001b[0m\u001b[0malpha\u001b[0m\u001b[1;33m/\u001b[0m\u001b[1;36m1\u001b[0m\u001b[1;33m-\u001b[0m\u001b[0msigma\u001b[0m\u001b[1;33m)\u001b[0m\u001b[1;33m*\u001b[0m\u001b[0mnp\u001b[0m\u001b[1;33m.\u001b[0m\u001b[0mlog\u001b[0m\u001b[1;33m[\u001b[0m\u001b[1;33m(\u001b[0m\u001b[0mlamda\u001b[0m\u001b[1;33m*\u001b[0m\u001b[0mphi\u001b[0m\u001b[1;33m+\u001b[0m\u001b[1;33m(\u001b[0m\u001b[1;36m1\u001b[0m\u001b[1;33m-\u001b[0m\u001b[0mlamda\u001b[0m\u001b[1;33m)\u001b[0m\u001b[1;33m/\u001b[0m\u001b[1;33m(\u001b[0m\u001b[0mlamda\u001b[0m\u001b[1;33m+\u001b[0m\u001b[1;33m(\u001b[0m\u001b[1;36m1\u001b[0m\u001b[1;33m-\u001b[0m\u001b[0mlamda\u001b[0m\u001b[1;33m)\u001b[0m\u001b[1;33m*\u001b[0m\u001b[0mphi\u001b[0m\u001b[1;33m)\u001b[0m\u001b[1;33m)\u001b[0m\u001b[1;33m]\u001b[0m\u001b[1;33m+\u001b[0m\u001b[1;33m(\u001b[0m\u001b[1;33m(\u001b[0m\u001b[0malpha\u001b[0m\u001b[1;33m(\u001b[0m\u001b[1;36m1\u001b[0m\u001b[1;33m-\u001b[0m\u001b[0mphi\u001b[0m\u001b[1;33m)\u001b[0m\u001b[1;33m)\u001b[0m\u001b[1;33m/\u001b[0m\u001b[1;33m(\u001b[0m\u001b[0msigma\u001b[0m\u001b[1;33m)\u001b[0m\u001b[1;33m)\u001b[0m\u001b[1;33m*\u001b[0m\u001b[1;33m[\u001b[0m\u001b[1;33m(\u001b[0m\u001b[1;33m(\u001b[0m\u001b[0mrho\u001b[0m\u001b[1;33m+\u001b[0m\u001b[0mlamda\u001b[0m\u001b[1;33m)\u001b[0m\u001b[1;33m/\u001b[0m\u001b[0mlamda\u001b[0m\u001b[1;33m+\u001b[0m\u001b[1;33m(\u001b[0m\u001b[1;36m1\u001b[0m\u001b[1;33m-\u001b[0m\u001b[0mlamda\u001b[0m\u001b[1;33m)\u001b[0m\u001b[1;33m*\u001b[0m\u001b[0mphi\u001b[0m\u001b[1;33m)\u001b[0m\u001b[1;33m-\u001b[0m\u001b[1;33m(\u001b[0m\u001b[1;33m(\u001b[0m\u001b[0mrho\u001b[0m\u001b[1;33m+\u001b[0m\u001b[1;33m(\u001b[0m\u001b[1;36m1\u001b[0m\u001b[1;33m-\u001b[0m\u001b[0mlamda\u001b[0m\u001b[1;33m)\u001b[0m\u001b[1;33m)\u001b[0m\u001b[1;33m/\u001b[0m\u001b[0mlamda\u001b[0m\u001b[1;33m*\u001b[0m\u001b[0mphi\u001b[0m\u001b[1;33m+\u001b[0m\u001b[1;33m(\u001b[0m\u001b[1;36m1\u001b[0m\u001b[1;33m-\u001b[0m\u001b[0mlamda\u001b[0m\u001b[1;33m)\u001b[0m\u001b[1;33m)\u001b[0m\u001b[1;33m]\u001b[0m\u001b[1;33m)\u001b[0m\u001b[1;33m\u001b[0m\u001b[0m\n\u001b[0m\u001b[1;32m      3\u001b[0m \u001b[1;33m\u001b[0m\u001b[0m\n",
      "\u001b[0;31mTypeError\u001b[0m: 'numpy.ufunc' object has no attribute '__getitem__'"
     ]
    }
   ],
   "source": [
    "range_y = [my_array(lamda) for x in lamda]"
   ]
  },
  {
   "cell_type": "code",
   "execution_count": 43,
   "metadata": {
    "collapsed": false
   },
   "outputs": [
    {
     "ename": "TypeError",
     "evalue": "fsolve() takes at least 2 arguments (1 given)",
     "output_type": "error",
     "traceback": [
      "\u001b[0;31m---------------------------------------------------------------------------\u001b[0m",
      "\u001b[0;31mTypeError\u001b[0m                                 Traceback (most recent call last)",
      "\u001b[0;32m<ipython-input-43-af85ddb2972e>\u001b[0m in \u001b[0;36m<module>\u001b[0;34m()\u001b[0m\n\u001b[0;32m----> 1\u001b[0;31m \u001b[0moutput\u001b[0m \u001b[1;33m=\u001b[0m \u001b[0moptimize\u001b[0m\u001b[1;33m.\u001b[0m\u001b[0mfsolve\u001b[0m\u001b[1;33m(\u001b[0m\u001b[0mlamda\u001b[0m\u001b[1;33m)\u001b[0m\u001b[1;33m\u001b[0m\u001b[0m\n\u001b[0m\u001b[1;32m      2\u001b[0m \u001b[1;32mprint\u001b[0m \u001b[0moutput\u001b[0m\u001b[1;33m\u001b[0m\u001b[0m\n",
      "\u001b[0;31mTypeError\u001b[0m: fsolve() takes at least 2 arguments (1 given)"
     ]
    }
   ],
   "source": [
    "output = optimize.fsolve(lamda)\n",
    "print output"
   ]
  },
  {
   "cell_type": "code",
   "execution_count": 108,
   "metadata": {
    "collapsed": false,
    "scrolled": true
   },
   "outputs": [
    {
     "ename": "TypeError",
     "evalue": "'numpy.ufunc' object has no attribute '__getitem__'",
     "output_type": "error",
     "traceback": [
      "\u001b[0;31m---------------------------------------------------------------------------\u001b[0m",
      "\u001b[0;31mTypeError\u001b[0m                                 Traceback (most recent call last)",
      "\u001b[0;32m<ipython-input-108-ed7b97ac66a7>\u001b[0m in \u001b[0;36m<module>\u001b[0;34m()\u001b[0m\n\u001b[0;32m----> 1\u001b[0;31m \u001b[0mrange_v\u001b[0m \u001b[1;33m=\u001b[0m \u001b[1;33m[\u001b[0m\u001b[0mfunction\u001b[0m\u001b[1;33m(\u001b[0m\u001b[0mlamda\u001b[0m\u001b[1;33m)\u001b[0m \u001b[1;32mfor\u001b[0m \u001b[0mx\u001b[0m \u001b[1;32min\u001b[0m \u001b[0mlamda\u001b[0m\u001b[1;33m]\u001b[0m\u001b[1;33m\u001b[0m\u001b[0m\n\u001b[0m\u001b[1;32m      2\u001b[0m \u001b[1;32mprint\u001b[0m \u001b[0mrange_v\u001b[0m\u001b[1;33m\u001b[0m\u001b[0m\n",
      "\u001b[0;32m<ipython-input-106-95dad305ba67>\u001b[0m in \u001b[0;36mfunction\u001b[0;34m(lamda)\u001b[0m\n\u001b[1;32m      1\u001b[0m \u001b[1;32mdef\u001b[0m \u001b[0mfunction\u001b[0m\u001b[1;33m(\u001b[0m\u001b[0mlamda\u001b[0m\u001b[1;33m)\u001b[0m\u001b[1;33m:\u001b[0m\u001b[1;33m\u001b[0m\u001b[0m\n\u001b[0;32m----> 2\u001b[0;31m     \u001b[1;32mreturn\u001b[0m \u001b[1;33m(\u001b[0m\u001b[0malpha\u001b[0m\u001b[1;33m/\u001b[0m\u001b[1;36m1\u001b[0m\u001b[1;33m-\u001b[0m\u001b[0msigma\u001b[0m\u001b[1;33m)\u001b[0m\u001b[1;33m*\u001b[0m\u001b[0mnp\u001b[0m\u001b[1;33m.\u001b[0m\u001b[0mlog\u001b[0m\u001b[1;33m[\u001b[0m\u001b[1;33m(\u001b[0m\u001b[0mlamda\u001b[0m\u001b[1;33m*\u001b[0m\u001b[0mphi\u001b[0m\u001b[1;33m+\u001b[0m\u001b[1;33m(\u001b[0m\u001b[1;36m1\u001b[0m\u001b[1;33m-\u001b[0m\u001b[0mlamda\u001b[0m\u001b[1;33m)\u001b[0m\u001b[1;33m/\u001b[0m\u001b[1;33m(\u001b[0m\u001b[0mlamda\u001b[0m\u001b[1;33m+\u001b[0m\u001b[1;33m(\u001b[0m\u001b[1;36m1\u001b[0m\u001b[1;33m-\u001b[0m\u001b[0mlamda\u001b[0m\u001b[1;33m)\u001b[0m\u001b[1;33m*\u001b[0m\u001b[0mphi\u001b[0m\u001b[1;33m)\u001b[0m\u001b[1;33m)\u001b[0m\u001b[1;33m]\u001b[0m\u001b[1;33m+\u001b[0m\u001b[1;33m(\u001b[0m\u001b[1;33m(\u001b[0m\u001b[0malpha\u001b[0m\u001b[1;33m(\u001b[0m\u001b[1;36m1\u001b[0m\u001b[1;33m-\u001b[0m\u001b[0mphi\u001b[0m\u001b[1;33m)\u001b[0m\u001b[1;33m)\u001b[0m\u001b[1;33m/\u001b[0m\u001b[1;33m(\u001b[0m\u001b[0msigma\u001b[0m\u001b[1;33m)\u001b[0m\u001b[1;33m)\u001b[0m\u001b[1;33m*\u001b[0m\u001b[1;33m[\u001b[0m\u001b[1;33m(\u001b[0m\u001b[1;33m(\u001b[0m\u001b[0mrho\u001b[0m\u001b[1;33m+\u001b[0m\u001b[0mlamda\u001b[0m\u001b[1;33m)\u001b[0m\u001b[1;33m/\u001b[0m\u001b[0mlamda\u001b[0m\u001b[1;33m+\u001b[0m\u001b[1;33m(\u001b[0m\u001b[1;36m1\u001b[0m\u001b[1;33m-\u001b[0m\u001b[0mlamda\u001b[0m\u001b[1;33m)\u001b[0m\u001b[1;33m*\u001b[0m\u001b[0mphi\u001b[0m\u001b[1;33m)\u001b[0m\u001b[1;33m-\u001b[0m\u001b[1;33m(\u001b[0m\u001b[1;33m(\u001b[0m\u001b[0mrho\u001b[0m\u001b[1;33m+\u001b[0m\u001b[1;33m(\u001b[0m\u001b[1;36m1\u001b[0m\u001b[1;33m-\u001b[0m\u001b[0mlamda\u001b[0m\u001b[1;33m)\u001b[0m\u001b[1;33m)\u001b[0m\u001b[1;33m/\u001b[0m\u001b[0mlamda\u001b[0m\u001b[1;33m*\u001b[0m\u001b[0mphi\u001b[0m\u001b[1;33m+\u001b[0m\u001b[1;33m(\u001b[0m\u001b[1;36m1\u001b[0m\u001b[1;33m-\u001b[0m\u001b[0mlamda\u001b[0m\u001b[1;33m)\u001b[0m\u001b[1;33m)\u001b[0m\u001b[1;33m]\u001b[0m\u001b[1;33m\u001b[0m\u001b[0m\n\u001b[0m",
      "\u001b[0;31mTypeError\u001b[0m: 'numpy.ufunc' object has no attribute '__getitem__'"
     ]
    }
   ],
   "source": [
    "range_v = [function(lamda) for x in lamda]\n",
    "print range_v"
   ]
  },
  {
   "cell_type": "code",
   "execution_count": 33,
   "metadata": {
    "collapsed": false,
    "scrolled": true
   },
   "outputs": [
    {
     "ename": "SyntaxError",
     "evalue": "invalid syntax (<ipython-input-33-bf0ef4318ba2>, line 1)",
     "output_type": "error",
     "traceback": [
      "\u001b[0;36m  File \u001b[0;32m\"<ipython-input-33-bf0ef4318ba2>\"\u001b[0;36m, line \u001b[0;32m1\u001b[0m\n\u001b[0;31m    V = (alpha/1-sigma) np.log[(lamda*phi+(1-lamda)/(lamda+(1-lamda)phi))]\u001b[0m\n\u001b[0m                         ^\u001b[0m\n\u001b[0;31mSyntaxError\u001b[0m\u001b[0;31m:\u001b[0m invalid syntax\n"
     ]
    }
   ],
   "source": [
    "V = (alpha/1-sigma) np.log[(lamda*phi+(1-lamda)/(lamda+(1-lamda)phi))]"
   ]
  },
  {
   "cell_type": "code",
   "execution_count": 66,
   "metadata": {
    "collapsed": false
   },
   "outputs": [
    {
     "ename": "TypeError",
     "evalue": "'numpy.ufunc' object has no attribute '__getitem__'",
     "output_type": "error",
     "traceback": [
      "\u001b[0;31m---------------------------------------------------------------------------\u001b[0m",
      "\u001b[0;31mTypeError\u001b[0m                                 Traceback (most recent call last)",
      "\u001b[0;32m<ipython-input-66-faed34895aa2>\u001b[0m in \u001b[0;36m<module>\u001b[0;34m()\u001b[0m\n\u001b[0;32m----> 1\u001b[0;31m \u001b[0mnp\u001b[0m\u001b[1;33m.\u001b[0m\u001b[0mlog\u001b[0m\u001b[1;33m[\u001b[0m\u001b[1;33m(\u001b[0m\u001b[0mlamda\u001b[0m\u001b[1;33m*\u001b[0m\u001b[0mphi\u001b[0m\u001b[1;33m+\u001b[0m\u001b[1;33m(\u001b[0m\u001b[1;36m1\u001b[0m\u001b[1;33m-\u001b[0m\u001b[0mlamda\u001b[0m\u001b[1;33m)\u001b[0m\u001b[1;33m/\u001b[0m\u001b[1;33m(\u001b[0m\u001b[0mlamda\u001b[0m\u001b[1;33m+\u001b[0m\u001b[1;33m(\u001b[0m\u001b[1;36m1\u001b[0m\u001b[1;33m-\u001b[0m\u001b[0mlamda\u001b[0m\u001b[1;33m)\u001b[0m\u001b[1;33m*\u001b[0m\u001b[0mphi\u001b[0m\u001b[1;33m)\u001b[0m\u001b[1;33m)\u001b[0m\u001b[1;33m]\u001b[0m\u001b[1;33m\u001b[0m\u001b[0m\n\u001b[0m",
      "\u001b[0;31mTypeError\u001b[0m: 'numpy.ufunc' object has no attribute '__getitem__'"
     ]
    }
   ],
   "source": [
    "np.log[(lamda*phi+(1-lamda)/(lamda+(1-lamda)*phi))]"
   ]
  },
  {
   "cell_type": "code",
   "execution_count": null,
   "metadata": {
    "collapsed": true
   },
   "outputs": [],
   "source": []
  }
 ],
 "metadata": {
  "anaconda-cloud": {},
  "kernelspec": {
   "display_name": "Python [conda root]",
   "language": "python",
   "name": "conda-root-py"
  },
  "language_info": {
   "codemirror_mode": {
    "name": "ipython",
    "version": 2
   },
   "file_extension": ".py",
   "mimetype": "text/x-python",
   "name": "python",
   "nbconvert_exporter": "python",
   "pygments_lexer": "ipython2",
   "version": "2.7.12"
  }
 },
 "nbformat": 4,
 "nbformat_minor": 1
}
